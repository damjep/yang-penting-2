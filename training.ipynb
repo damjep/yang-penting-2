{
 "cells": [
  {
   "cell_type": "code",
   "execution_count": null,
   "metadata": {
    "vscode": {
     "languageId": "plaintext"
    }
   },
   "outputs": [],
   "source": [
    "from IPython import display\n",
    "display.clear_output()\n",
    "# Check the YOLO environment\n",
    "import ultralytics\n",
    "ultralytics.checks()\n",
    "# Import YOLOv8\n",
    "from ultralytics import YOLO\n",
    "from IPython.display import display, Image\n",
    "# Set up and configure the YOLO model\n",
    "# Load the best model checkpoint from the previous training\n",
    "# Make sure to replace 'best.pt' with the actual path to your best model checkpoint\n",
    "model = YOLO(\"yolov8s.pt\")\n",
    "\n",
    "# Set image size to 640 for optimal YOLOv8 compatibility\n",
    "img_size = 640\n",
    "# Training with advanced configuration and local logging\n",
    "model.train(\n",
    "    data=\"unocards_dataset/data.yaml\",\n",
    "    epochs=10,  # Extended epochs for better performance\n",
    "    imgsz=img_size,\n",
    "    batch=32,  # Adjust based on GPU memory capacity\n",
    "    augment=True,  # Enable on-the-fly augmentation\n",
    "    plots=True,  # Enables training plots\n",
    "    workers=4,\n",
    "    lr0=1e-3,\n",
    "    lrf=0.01,\n",
    "    warmup_epochs=3,\n",
    "    warmup_momentum=0.5,\n",
    "    box=0.05,\n",
    "    cls=0.5,\n",
    "    mosaic=1.0,\n",
    "    mixup=0.1,\n",
    "    hsv_h=0.015,\n",
    "    hsv_s=0.7,\n",
    "    hsv_v=0.4,\n",
    "    perspective=0.001,\n",
    "    flipud=0.5,\n",
    "    fliplr=0.5,\n",
    "    copy_paste=0.2,\n",
    "    device='cpu',  # Specify GPU\n",
    "    project=\"uno_train2\",  # Specify project folder for local saving\n",
    ")"
   ]
  }
 ],
 "metadata": {
  "language_info": {
   "name": "python"
  }
 },
 "nbformat": 4,
 "nbformat_minor": 2
}
